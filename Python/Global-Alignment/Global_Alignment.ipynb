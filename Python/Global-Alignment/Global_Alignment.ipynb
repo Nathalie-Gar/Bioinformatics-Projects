{
  "nbformat": 4,
  "nbformat_minor": 0,
  "metadata": {
    "colab": {
      "provenance": [],
      "toc_visible": true,
      "authorship_tag": "ABX9TyNB0soG5r6eo5sYSLIeIGRw",
      "include_colab_link": true
    },
    "kernelspec": {
      "name": "python3",
      "display_name": "Python 3"
    },
    "language_info": {
      "name": "python"
    }
  },
  "cells": [
    {
      "cell_type": "markdown",
      "metadata": {
        "id": "view-in-github",
        "colab_type": "text"
      },
      "source": [
        "<a href=\"https://colab.research.google.com/github/Nathalie-Gar/Bioinformatics-Projects/blob/main/Python/Global-Alignment/Global_Alignment.ipynb\" target=\"_parent\"><img src=\"https://colab.research.google.com/assets/colab-badge.svg\" alt=\"Open In Colab\"/></a>"
      ]
    },
    {
      "cell_type": "code",
      "execution_count": null,
      "metadata": {
        "id": "vFzpfdI-qGWn"
      },
      "outputs": [],
      "source": []
    },
    {
      "cell_type": "markdown",
      "source": [
        "# Needleman-Wunsch Global Alignment Project\n",
        "\n",
        "\n"
      ],
      "metadata": {
        "id": "EO5jIXq1qMne"
      }
    },
    {
      "cell_type": "markdown",
      "source": [
        "### Loading Data"
      ],
      "metadata": {
        "id": "bGBtK7SYq5_E"
      }
    },
    {
      "cell_type": "code",
      "source": [
        "\n",
        "# Example sequences\n",
        "seq1 = \"AATGCCGTTGACAAGCT\"\n",
        "seq2 = \"GGGTATTAGCCTGCAGA\"\n",
        "\n",
        "# Setting a Scoring System\n",
        "match = 1\n",
        "mismatch = -1\n",
        "gap = -1\n",
        "\n",
        "# Setting up lengths\n",
        "n, m = len(seq1), len(seq2)\n",
        "\n",
        "# Initializing score and pointer matrices\n",
        "score = [[0]*(m+1) for _ in range(n+1)]\n",
        "pointer = [[None]*(m+1) for _ in range(n+1)]\n",
        "\n",
        "# Initializing first row and column\n",
        "for i in range(1, n+1):\n",
        "  score[i][0] = i * gap\n",
        "  pointer[i][0] = 'up'\n",
        "for j in range(1, m+1):\n",
        "  score[0][j] = j * gap\n",
        "  pointer[0][j] = 'left'\n",
        "\n",
        "# Filling in the matrices\n",
        "for i in range(1, n+1):\n",
        "  for j in range(1, m+1):\n",
        "    diag = score[i-1][j-1] + (match if seq1[i-1] == seq2[j-1] else mismatch)\n",
        "    up = score[i-1][j] + gap\n",
        "    left = score[i][j-1] + gap\n",
        "    best = max(diag, up, left)\n",
        "    score[i][j] = best\n",
        "    if best == diag:\n",
        "      pointer[i][j] = 'diag'\n",
        "    elif best == up:\n",
        "      pointer[i][j] = 'up'\n",
        "    else:\n",
        "      pointer[i][j] = 'left'\n",
        "\n",
        "# Tracing back with pointer\n",
        "aligned1, aligned2 = [], []\n",
        "i, j = n, m\n",
        "while i > 0 or j > 0:\n",
        "  move = pointer[i][j]\n",
        "  if move == 'diag':\n",
        "    aligned1.append(seq1[i-1])\n",
        "    aligned2.append(seq2[j-1])\n",
        "    i, j = i-1, j-1\n",
        "  elif move == 'up':\n",
        "    aligned1.append(seq1[i-1])\n",
        "    aligned2.append('-')\n",
        "    i -= 1\n",
        "  else:\n",
        "      aligned1.append('-')\n",
        "      aligned2.append(seq2[j-1])\n",
        "      j -= 1\n",
        "\n",
        "# Reverse and join sequences\n",
        "aligned1 = ''.join(reversed(aligned1))\n",
        "aligned2 = ''.join(reversed(aligned2))\n",
        "\n",
        "#Printing out alignments\n",
        "print(\"seq1:\", aligned1)\n",
        "print(\"seq1:\", aligned2)\n",
        "print(\"score:\", score[n][m])\n"
      ],
      "metadata": {
        "id": "cN4Hdwl3qfkS",
        "colab": {
          "base_uri": "https://localhost:8080/"
        },
        "outputId": "642281fb-918c-4524-8d79-daa997978d0c"
      },
      "execution_count": null,
      "outputs": [
        {
          "output_type": "stream",
          "name": "stdout",
          "text": [
            "seq1: ----AAT-GCCGTTGACAAGCT\n",
            "seq1: GGGTATTAGCC--TG-C-AG-A\n",
            "score: -2\n"
          ]
        }
      ]
    }
  ]
}